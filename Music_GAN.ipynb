{
 "cells": [
  {
   "cell_type": "code",
   "execution_count": 10,
   "metadata": {},
   "outputs": [],
   "source": [
    "from tensorflow.keras import backend as K\n",
    "from tensorflow.keras.layers import Input, Dense, Activation, Dropout, Flatten, Reshape, Conv2D, Conv2DTranspose\n",
    "from tensorflow.keras.layers import BatchNormalization\n",
    "from tensorflow.keras.models import Model\n",
    "\n",
    "import numpy as np\n",
    "import os"
   ]
  },
  {
   "cell_type": "code",
   "execution_count": 5,
   "metadata": {},
   "outputs": [],
   "source": [
    "lengths = np.load('data/lengths.npy')\n",
    "samples = np.load('data/samples.npy')"
   ]
  },
  {
   "cell_type": "code",
   "execution_count": null,
   "metadata": {},
   "outputs": [],
   "source": [
    "def build_gen():\n",
    "    \n",
    "    inputs = Input(shape = (100,))\n",
    "    \n",
    "    x = inputs\n",
    "    \n",
    "    x = Dense(12 * 12 * 128)(x)\n",
    "    x = Reshape((12, 12, 128))(x)\n",
    "    \n",
    "    x = Conv2DTranspose(filters = 128, kernel_size = (3, 3), strides = 2, padding = 'same', activation = 'relu')(x)\n",
    "    x = BatchNormalization()(x)\n",
    "    \n",
    "    x = Conv2DTranspose(filters = 64, kernel_size = (3, 3), strides = 2, padding = 'same', activation = 'relu')(x)\n",
    "    x = BatchNormalization()(x)\n",
    "    \n",
    "    x = Conv2DTranspose(filters = 32, kernel_size = (3, 3), strides = 2, padding = 'same', activation = 'relu')(x)\n",
    "    x = BatchNormalization()(x)\n",
    "    \n",
    "    x = Conv2DTranspose(filters = 1, kernel_size = (3, 3), strides = 2, padding = 'same', activation = 'relu')(x)\n",
    "    x = BatchNormalization()(x)\n",
    "    \n",
    "    generator = Model(inputs = [inputs], ou)\n",
    "    "
   ]
  },
  {
   "cell_type": "code",
   "execution_count": null,
   "metadata": {},
   "outputs": [],
   "source": [
    "\n",
    "    "
   ]
  },
  {
   "cell_type": "code",
   "execution_count": null,
   "metadata": {},
   "outputs": [],
   "source": []
  },
  {
   "cell_type": "markdown",
   "metadata": {},
   "source": []
  },
  {
   "cell_type": "code",
   "execution_count": null,
   "metadata": {},
   "outputs": [],
   "source": []
  },
  {
   "cell_type": "code",
   "execution_count": null,
   "metadata": {},
   "outputs": [],
   "source": []
  }
 ],
 "metadata": {
  "kernelspec": {
   "display_name": "Python 3",
   "language": "python",
   "name": "python3"
  },
  "language_info": {
   "codemirror_mode": {
    "name": "ipython",
    "version": 3
   },
   "file_extension": ".py",
   "mimetype": "text/x-python",
   "name": "python",
   "nbconvert_exporter": "python",
   "pygments_lexer": "ipython3",
   "version": "3.7.5"
  }
 },
 "nbformat": 4,
 "nbformat_minor": 2
}
